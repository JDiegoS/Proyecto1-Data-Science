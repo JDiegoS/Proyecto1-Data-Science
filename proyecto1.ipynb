{
 "cells": [
  {
   "cell_type": "markdown",
   "metadata": {},
   "source": [
    "# Proyecto 1\n",
    "### Juan Diego Solorzano 18151\n",
    "### Isabel Ortiz 18176\n",
    "### Luis Alejandro Urbina 18473"
   ]
  },
  {
   "cell_type": "code",
   "execution_count": 1,
   "metadata": {},
   "outputs": [],
   "source": [
    "import pandas as pd\n",
    "import numpy as np"
   ]
  },
  {
   "cell_type": "code",
   "execution_count": 2,
   "metadata": {},
   "outputs": [],
   "source": [
    "#Datasets\n",
    "AltaV = pd.read_csv(\"Datos/Colegios_Alta Verapaz.csv\")\n",
    "BajaV = pd.read_csv(\"Datos/Colegios_Baja Verapaz.csv\")\n",
    "Chimaltenango = pd.read_csv(\"Datos/Colegios_Chimaltenango.csv\")\n",
    "Chiquimula = pd.read_csv(\"Datos/Colegios_Chiquimula.csv\")\n",
    "Ciudad = pd.read_csv(\"Datos/Colegios_Ciudad Capital.csv\")\n",
    "ElProgreso = pd.read_csv(\"Datos/Colegios_El Progreso.csv\")\n",
    "Escuintla = pd.read_csv(\"Datos/Colegios_Escuintla.csv\")\n",
    "Guatemala = pd.read_csv(\"Datos/Colegios_Guatemala.csv\")\n",
    "Huehuetenango = pd.read_csv(\"Datos/Colegios_Huehuetenango.csv\")\n",
    "Izabal = pd.read_csv(\"Datos/Colegios_Izabal.csv\")\n",
    "Jalapa = pd.read_csv(\"Datos/Colegios_Jalapa.csv\")\n",
    "Jutiapa = pd.read_csv(\"Datos/Colegios_Jutiapa.csv\")\n",
    "Peten = pd.read_csv(\"Datos/Colegios_Peten.csv\")\n",
    "Quetzaltenango = pd.read_csv(\"Datos/Colegios_Quetzaltenango.csv\")\n",
    "Quiche = pd.read_csv(\"Datos/Colegios_Quiche.csv\")\n",
    "Retahuleu = pd.read_csv(\"Datos/Colegios_Retahuleu.csv\")\n",
    "Sacatepequez = pd.read_csv(\"Datos/Colegios_Sacatepequez.csv\")\n",
    "SanMarcos = pd.read_csv(\"Datos/Colegios_San Marcos.csv\")\n",
    "SantaRosa = pd.read_csv(\"Datos/Colegios_Santa Rosa.csv\")\n",
    "Solola = pd.read_csv(\"Datos/Colegios_Solola.csv\")\n",
    "Suchitepequez = pd.read_csv(\"Datos/Colegios_Suchitepequez.csv\")\n",
    "Totonicapan = pd.read_csv(\"Datos/Colegios_Totonicapan.csv\")\n",
    "Zacapa = pd.read_csv(\"Datos/Colegios_Zacapa.csv\")"
   ]
  },
  {
   "cell_type": "code",
   "execution_count": 3,
   "metadata": {},
   "outputs": [
    {
     "name": "stderr",
     "output_type": "stream",
     "text": [
      "c:\\users\\jdieg\\appdata\\local\\programs\\python\\python37-32\\lib\\site-packages\\pandas\\core\\frame.py:4315: SettingWithCopyWarning: \n",
      "A value is trying to be set on a copy of a slice from a DataFrame\n",
      "\n",
      "See the caveats in the documentation: https://pandas.pydata.org/pandas-docs/stable/user_guide/indexing.html#returning-a-view-versus-a-copy\n",
      "  errors=errors,\n"
     ]
    },
    {
     "data": {
      "text/html": [
       "<div>\n",
       "<style scoped>\n",
       "    .dataframe tbody tr th:only-of-type {\n",
       "        vertical-align: middle;\n",
       "    }\n",
       "\n",
       "    .dataframe tbody tr th {\n",
       "        vertical-align: top;\n",
       "    }\n",
       "\n",
       "    .dataframe thead th {\n",
       "        text-align: right;\n",
       "    }\n",
       "</style>\n",
       "<table border=\"1\" class=\"dataframe\">\n",
       "  <thead>\n",
       "    <tr style=\"text-align: right;\">\n",
       "      <th></th>\n",
       "      <th>CODIGO</th>\n",
       "      <th>DISTRITO</th>\n",
       "      <th>DEPARTAMENTO</th>\n",
       "      <th>MUNICIPIO</th>\n",
       "      <th>ESTABLECIMIENTO</th>\n",
       "      <th>DIRECCION</th>\n",
       "      <th>TELEFONO</th>\n",
       "      <th>SUPERVISOR</th>\n",
       "      <th>DIRECTOR</th>\n",
       "      <th>NIVEL</th>\n",
       "      <th>SECTOR</th>\n",
       "      <th>AREA</th>\n",
       "      <th>STATUS</th>\n",
       "      <th>MODALIDAD</th>\n",
       "      <th>JORNADA</th>\n",
       "      <th>PLAN</th>\n",
       "      <th>DEPARTAMENTAL</th>\n",
       "    </tr>\n",
       "  </thead>\n",
       "  <tbody>\n",
       "    <tr>\n",
       "      <th>1</th>\n",
       "      <td>16-01-0138-46</td>\n",
       "      <td>16-031</td>\n",
       "      <td>ALTA VERAPAZ</td>\n",
       "      <td>COBAN</td>\n",
       "      <td>COLEGIO COBAN</td>\n",
       "      <td>KM.2 SALIDA A SAN JUAN CHAMELCO ZONA 8</td>\n",
       "      <td>77945104</td>\n",
       "      <td>CESAR ROLANDO CHOCOOJ YALIBAT</td>\n",
       "      <td>JULIO CESAR VILLELA AMADO</td>\n",
       "      <td>DIVERSIFICADO</td>\n",
       "      <td>PRIVADO</td>\n",
       "      <td>URBANA</td>\n",
       "      <td>ABIERTA</td>\n",
       "      <td>MONOLINGUE</td>\n",
       "      <td>MATUTINA</td>\n",
       "      <td>DIARIO(REGULAR)</td>\n",
       "      <td>ALTA VERAPAZ</td>\n",
       "    </tr>\n",
       "    <tr>\n",
       "      <th>2</th>\n",
       "      <td>16-01-0139-46</td>\n",
       "      <td>16-031</td>\n",
       "      <td>ALTA VERAPAZ</td>\n",
       "      <td>COBAN</td>\n",
       "      <td>COLEGIO PARTICULAR MIXTO VERAPAZ</td>\n",
       "      <td>KM 209.5 ENTRADA A LA CIUDAD</td>\n",
       "      <td>77367402</td>\n",
       "      <td>CESAR ROLANDO CHOCOOJ YALIBAT</td>\n",
       "      <td>NaN</td>\n",
       "      <td>DIVERSIFICADO</td>\n",
       "      <td>PRIVADO</td>\n",
       "      <td>URBANA</td>\n",
       "      <td>ABIERTA</td>\n",
       "      <td>MONOLINGUE</td>\n",
       "      <td>MATUTINA</td>\n",
       "      <td>DIARIO(REGULAR)</td>\n",
       "      <td>ALTA VERAPAZ</td>\n",
       "    </tr>\n",
       "    <tr>\n",
       "      <th>3</th>\n",
       "      <td>16-01-0140-46</td>\n",
       "      <td>16-031</td>\n",
       "      <td>ALTA VERAPAZ</td>\n",
       "      <td>COBAN</td>\n",
       "      <td>COLEGIO \"LA INMACULADA\"</td>\n",
       "      <td>7A. AVENIDA 11-109 ZONA 6</td>\n",
       "      <td>49532425</td>\n",
       "      <td>CESAR ROLANDO CHOCOOJ YALIBAT</td>\n",
       "      <td>MERCEDES QUIROS QUIROS</td>\n",
       "      <td>DIVERSIFICADO</td>\n",
       "      <td>PRIVADO</td>\n",
       "      <td>URBANA</td>\n",
       "      <td>ABIERTA</td>\n",
       "      <td>MONOLINGUE</td>\n",
       "      <td>MATUTINA</td>\n",
       "      <td>DIARIO(REGULAR)</td>\n",
       "      <td>ALTA VERAPAZ</td>\n",
       "    </tr>\n",
       "    <tr>\n",
       "      <th>4</th>\n",
       "      <td>16-01-0141-46</td>\n",
       "      <td>16-005</td>\n",
       "      <td>ALTA VERAPAZ</td>\n",
       "      <td>COBAN</td>\n",
       "      <td>ESCUELA NACIONAL DE CIENCIAS COMERCIALES</td>\n",
       "      <td>2A CALLE 11-10 ZONA 2</td>\n",
       "      <td>79514215</td>\n",
       "      <td>JUAN CARLOS WINTER CAAL</td>\n",
       "      <td>NaN</td>\n",
       "      <td>DIVERSIFICADO</td>\n",
       "      <td>OFICIAL</td>\n",
       "      <td>URBANA</td>\n",
       "      <td>ABIERTA</td>\n",
       "      <td>MONOLINGUE</td>\n",
       "      <td>MATUTINA</td>\n",
       "      <td>DIARIO(REGULAR)</td>\n",
       "      <td>ALTA VERAPAZ</td>\n",
       "    </tr>\n",
       "    <tr>\n",
       "      <th>5</th>\n",
       "      <td>16-01-0142-46</td>\n",
       "      <td>16-005</td>\n",
       "      <td>ALTA VERAPAZ</td>\n",
       "      <td>COBAN</td>\n",
       "      <td>INSTITUTO NORMAL MIXTO DEL NORTE 'EMILIO ROSAL...</td>\n",
       "      <td>3A AVE 6-23 ZONA 11</td>\n",
       "      <td>79521468</td>\n",
       "      <td>JUAN CARLOS WINTER CAAL</td>\n",
       "      <td>NaN</td>\n",
       "      <td>DIVERSIFICADO</td>\n",
       "      <td>OFICIAL</td>\n",
       "      <td>URBANA</td>\n",
       "      <td>ABIERTA</td>\n",
       "      <td>BILINGUE</td>\n",
       "      <td>VESPERTINA</td>\n",
       "      <td>DIARIO(REGULAR)</td>\n",
       "      <td>ALTA VERAPAZ</td>\n",
       "    </tr>\n",
       "    <tr>\n",
       "      <th>...</th>\n",
       "      <td>...</td>\n",
       "      <td>...</td>\n",
       "      <td>...</td>\n",
       "      <td>...</td>\n",
       "      <td>...</td>\n",
       "      <td>...</td>\n",
       "      <td>...</td>\n",
       "      <td>...</td>\n",
       "      <td>...</td>\n",
       "      <td>...</td>\n",
       "      <td>...</td>\n",
       "      <td>...</td>\n",
       "      <td>...</td>\n",
       "      <td>...</td>\n",
       "      <td>...</td>\n",
       "      <td>...</td>\n",
       "      <td>...</td>\n",
       "    </tr>\n",
       "    <tr>\n",
       "      <th>89</th>\n",
       "      <td>19-09-0040-46</td>\n",
       "      <td>19-026</td>\n",
       "      <td>ZACAPA</td>\n",
       "      <td>LA UNION</td>\n",
       "      <td>LICEO PARTICULAR MIXTO JIREH</td>\n",
       "      <td>BARRIO NUEVO</td>\n",
       "      <td>79418369</td>\n",
       "      <td>BERTA ALICIA LEIVA CORDON DE GARCIA</td>\n",
       "      <td>ANA MARмA CUELLAR GUERRA DE RAMмREZ</td>\n",
       "      <td>DIVERSIFICADO</td>\n",
       "      <td>PRIVADO</td>\n",
       "      <td>URBANA</td>\n",
       "      <td>ABIERTA</td>\n",
       "      <td>MONOLINGUE</td>\n",
       "      <td>MATUTINA</td>\n",
       "      <td>DIARIO(REGULAR)</td>\n",
       "      <td>ZACAPA</td>\n",
       "    </tr>\n",
       "    <tr>\n",
       "      <th>90</th>\n",
       "      <td>19-09-0902-46</td>\n",
       "      <td>19-026</td>\n",
       "      <td>ZACAPA</td>\n",
       "      <td>LA UNION</td>\n",
       "      <td>LICEO PARTICULAR MIXTO JIREH (POR MADUREZ)</td>\n",
       "      <td>BARRIO NUEVO</td>\n",
       "      <td>79418369</td>\n",
       "      <td>BERTA ALICIA LEIVA CORDON DE GARCIA</td>\n",
       "      <td>ANA MARмA CUELLAR GUERRA DE RAMмREZ</td>\n",
       "      <td>DIVERSIFICADO</td>\n",
       "      <td>PRIVADO</td>\n",
       "      <td>URBANA</td>\n",
       "      <td>ABIERTA</td>\n",
       "      <td>MONOLINGUE</td>\n",
       "      <td>DOBLE</td>\n",
       "      <td>FIN DE SEMANA</td>\n",
       "      <td>ZACAPA</td>\n",
       "    </tr>\n",
       "    <tr>\n",
       "      <th>91</th>\n",
       "      <td>19-10-0013-46</td>\n",
       "      <td>19-016</td>\n",
       "      <td>ZACAPA</td>\n",
       "      <td>HUITE</td>\n",
       "      <td>INSTITUTO DIVERSIFICADO</td>\n",
       "      <td>BARRIO BUENOS AIRES</td>\n",
       "      <td>31863599</td>\n",
       "      <td>WENDER HUMBERTO MATEO NAJERA</td>\n",
       "      <td>ERIC MANUEL PиREZ AGUILAR</td>\n",
       "      <td>DIVERSIFICADO</td>\n",
       "      <td>OFICIAL</td>\n",
       "      <td>URBANA</td>\n",
       "      <td>ABIERTA</td>\n",
       "      <td>MONOLINGUE</td>\n",
       "      <td>NOCTURNA</td>\n",
       "      <td>DIARIO(REGULAR)</td>\n",
       "      <td>ZACAPA</td>\n",
       "    </tr>\n",
       "    <tr>\n",
       "      <th>92</th>\n",
       "      <td>19-10-1009-46</td>\n",
       "      <td>19-016</td>\n",
       "      <td>ZACAPA</td>\n",
       "      <td>HUITE</td>\n",
       "      <td>INSTITUTO MIXTO DE EDUCACION DIVERSIFICADA POR...</td>\n",
       "      <td>BARRIO EL CAMPO</td>\n",
       "      <td>55958103</td>\n",
       "      <td>WENDER HUMBERTO MATEO NAJERA</td>\n",
       "      <td>ROBIDIO PORTILLO SALGUERO</td>\n",
       "      <td>DIVERSIFICADO</td>\n",
       "      <td>COOPERATIVA</td>\n",
       "      <td>URBANA</td>\n",
       "      <td>ABIERTA</td>\n",
       "      <td>MONOLINGUE</td>\n",
       "      <td>VESPERTINA</td>\n",
       "      <td>DIARIO(REGULAR)</td>\n",
       "      <td>ZACAPA</td>\n",
       "    </tr>\n",
       "    <tr>\n",
       "      <th>93</th>\n",
       "      <td>19-11-0018-46</td>\n",
       "      <td>19-020</td>\n",
       "      <td>ZACAPA</td>\n",
       "      <td>SAN JORGE</td>\n",
       "      <td>INSTITUTO MIXTO DE EDUCACIсN DIVERSIFICADA POR...</td>\n",
       "      <td>BARRIO EL CENTRO</td>\n",
       "      <td>41447589</td>\n",
       "      <td>ALBA LUZ MENDEZ</td>\n",
       "      <td>VICTOR HUGO GUERRA MONROY</td>\n",
       "      <td>DIVERSIFICADO</td>\n",
       "      <td>COOPERATIVA</td>\n",
       "      <td>URBANA</td>\n",
       "      <td>ABIERTA</td>\n",
       "      <td>MONOLINGUE</td>\n",
       "      <td>MATUTINA</td>\n",
       "      <td>DIARIO(REGULAR)</td>\n",
       "      <td>ZACAPA</td>\n",
       "    </tr>\n",
       "  </tbody>\n",
       "</table>\n",
       "<p>7964 rows × 17 columns</p>\n",
       "</div>"
      ],
      "text/plain": [
       "0          CODIGO DISTRITO  DEPARTAMENTO  MUNICIPIO  \\\n",
       "1   16-01-0138-46   16-031  ALTA VERAPAZ      COBAN   \n",
       "2   16-01-0139-46   16-031  ALTA VERAPAZ      COBAN   \n",
       "3   16-01-0140-46   16-031  ALTA VERAPAZ      COBAN   \n",
       "4   16-01-0141-46   16-005  ALTA VERAPAZ      COBAN   \n",
       "5   16-01-0142-46   16-005  ALTA VERAPAZ      COBAN   \n",
       "..            ...      ...           ...        ...   \n",
       "89  19-09-0040-46   19-026        ZACAPA   LA UNION   \n",
       "90  19-09-0902-46   19-026        ZACAPA   LA UNION   \n",
       "91  19-10-0013-46   19-016        ZACAPA      HUITE   \n",
       "92  19-10-1009-46   19-016        ZACAPA      HUITE   \n",
       "93  19-11-0018-46   19-020        ZACAPA  SAN JORGE   \n",
       "\n",
       "0                                     ESTABLECIMIENTO  \\\n",
       "1                                       COLEGIO COBAN   \n",
       "2                    COLEGIO PARTICULAR MIXTO VERAPAZ   \n",
       "3                             COLEGIO \"LA INMACULADA\"   \n",
       "4            ESCUELA NACIONAL DE CIENCIAS COMERCIALES   \n",
       "5   INSTITUTO NORMAL MIXTO DEL NORTE 'EMILIO ROSAL...   \n",
       "..                                                ...   \n",
       "89                       LICEO PARTICULAR MIXTO JIREH   \n",
       "90         LICEO PARTICULAR MIXTO JIREH (POR MADUREZ)   \n",
       "91                            INSTITUTO DIVERSIFICADO   \n",
       "92  INSTITUTO MIXTO DE EDUCACION DIVERSIFICADA POR...   \n",
       "93  INSTITUTO MIXTO DE EDUCACIсN DIVERSIFICADA POR...   \n",
       "\n",
       "0                                DIRECCION  TELEFONO  \\\n",
       "1   KM.2 SALIDA A SAN JUAN CHAMELCO ZONA 8  77945104   \n",
       "2             KM 209.5 ENTRADA A LA CIUDAD  77367402   \n",
       "3                7A. AVENIDA 11-109 ZONA 6  49532425   \n",
       "4                    2A CALLE 11-10 ZONA 2  79514215   \n",
       "5                      3A AVE 6-23 ZONA 11  79521468   \n",
       "..                                     ...       ...   \n",
       "89                            BARRIO NUEVO  79418369   \n",
       "90                            BARRIO NUEVO  79418369   \n",
       "91                     BARRIO BUENOS AIRES  31863599   \n",
       "92                         BARRIO EL CAMPO  55958103   \n",
       "93                        BARRIO EL CENTRO  41447589   \n",
       "\n",
       "0                            SUPERVISOR                             DIRECTOR  \\\n",
       "1         CESAR ROLANDO CHOCOOJ YALIBAT            JULIO CESAR VILLELA AMADO   \n",
       "2         CESAR ROLANDO CHOCOOJ YALIBAT                                  NaN   \n",
       "3         CESAR ROLANDO CHOCOOJ YALIBAT               MERCEDES QUIROS QUIROS   \n",
       "4               JUAN CARLOS WINTER CAAL                                  NaN   \n",
       "5               JUAN CARLOS WINTER CAAL                                  NaN   \n",
       "..                                  ...                                  ...   \n",
       "89  BERTA ALICIA LEIVA CORDON DE GARCIA  ANA MARмA CUELLAR GUERRA DE RAMмREZ   \n",
       "90  BERTA ALICIA LEIVA CORDON DE GARCIA  ANA MARмA CUELLAR GUERRA DE RAMмREZ   \n",
       "91         WENDER HUMBERTO MATEO NAJERA            ERIC MANUEL PиREZ AGUILAR   \n",
       "92         WENDER HUMBERTO MATEO NAJERA            ROBIDIO PORTILLO SALGUERO   \n",
       "93                      ALBA LUZ MENDEZ            VICTOR HUGO GUERRA MONROY   \n",
       "\n",
       "0           NIVEL       SECTOR    AREA   STATUS   MODALIDAD     JORNADA  \\\n",
       "1   DIVERSIFICADO      PRIVADO  URBANA  ABIERTA  MONOLINGUE    MATUTINA   \n",
       "2   DIVERSIFICADO      PRIVADO  URBANA  ABIERTA  MONOLINGUE    MATUTINA   \n",
       "3   DIVERSIFICADO      PRIVADO  URBANA  ABIERTA  MONOLINGUE    MATUTINA   \n",
       "4   DIVERSIFICADO      OFICIAL  URBANA  ABIERTA  MONOLINGUE    MATUTINA   \n",
       "5   DIVERSIFICADO      OFICIAL  URBANA  ABIERTA    BILINGUE  VESPERTINA   \n",
       "..            ...          ...     ...      ...         ...         ...   \n",
       "89  DIVERSIFICADO      PRIVADO  URBANA  ABIERTA  MONOLINGUE    MATUTINA   \n",
       "90  DIVERSIFICADO      PRIVADO  URBANA  ABIERTA  MONOLINGUE       DOBLE   \n",
       "91  DIVERSIFICADO      OFICIAL  URBANA  ABIERTA  MONOLINGUE    NOCTURNA   \n",
       "92  DIVERSIFICADO  COOPERATIVA  URBANA  ABIERTA  MONOLINGUE  VESPERTINA   \n",
       "93  DIVERSIFICADO  COOPERATIVA  URBANA  ABIERTA  MONOLINGUE    MATUTINA   \n",
       "\n",
       "0              PLAN DEPARTAMENTAL  \n",
       "1   DIARIO(REGULAR)  ALTA VERAPAZ  \n",
       "2   DIARIO(REGULAR)  ALTA VERAPAZ  \n",
       "3   DIARIO(REGULAR)  ALTA VERAPAZ  \n",
       "4   DIARIO(REGULAR)  ALTA VERAPAZ  \n",
       "5   DIARIO(REGULAR)  ALTA VERAPAZ  \n",
       "..              ...           ...  \n",
       "89  DIARIO(REGULAR)        ZACAPA  \n",
       "90    FIN DE SEMANA        ZACAPA  \n",
       "91  DIARIO(REGULAR)        ZACAPA  \n",
       "92  DIARIO(REGULAR)        ZACAPA  \n",
       "93  DIARIO(REGULAR)        ZACAPA  \n",
       "\n",
       "[7964 rows x 17 columns]"
      ]
     },
     "execution_count": 3,
     "metadata": {},
     "output_type": "execute_result"
    }
   ],
   "source": [
    "#Juntar datasets\n",
    "todos = [AltaV, BajaV, Chimaltenango, Chiquimula, Ciudad, ElProgreso, Escuintla,\n",
    "         Guatemala, Huehuetenango, Izabal, Jalapa, Jutiapa, Peten, \n",
    "         Quetzaltenango, Quiche, Retahuleu, Sacatepequez, SanMarcos, \n",
    "         SantaRosa, Solola, Suchitepequez, Totonicapan, Zacapa]\n",
    "\n",
    "#Colocar titulo de variables y eliminar ultimas dos filas (estaban vacias)\n",
    "todos2 = []\n",
    "for df in todos:\n",
    "    new_header = df.iloc[0]\n",
    "    df = df[1:]\n",
    "    df.columns = new_header\n",
    "    df.drop(df.tail(2).index, inplace = True)\n",
    "    todos2.append(df)\n",
    "colegios = pd.concat(todos2)\n",
    "colegios"
   ]
  },
  {
   "cell_type": "code",
   "execution_count": 4,
   "metadata": {},
   "outputs": [
    {
     "data": {
      "text/html": [
       "<div>\n",
       "<style scoped>\n",
       "    .dataframe tbody tr th:only-of-type {\n",
       "        vertical-align: middle;\n",
       "    }\n",
       "\n",
       "    .dataframe tbody tr th {\n",
       "        vertical-align: top;\n",
       "    }\n",
       "\n",
       "    .dataframe thead th {\n",
       "        text-align: right;\n",
       "    }\n",
       "</style>\n",
       "<table border=\"1\" class=\"dataframe\">\n",
       "  <thead>\n",
       "    <tr style=\"text-align: right;\">\n",
       "      <th></th>\n",
       "      <th>DEPARTAMENTO</th>\n",
       "    </tr>\n",
       "  </thead>\n",
       "  <tbody>\n",
       "    <tr>\n",
       "      <th>CIUDAD CAPITAL</th>\n",
       "      <td>1349</td>\n",
       "    </tr>\n",
       "    <tr>\n",
       "      <th>GUATEMALA</th>\n",
       "      <td>1237</td>\n",
       "    </tr>\n",
       "    <tr>\n",
       "      <th>ESCUINTLA</th>\n",
       "      <td>496</td>\n",
       "    </tr>\n",
       "    <tr>\n",
       "      <th>SAN MARCOS</th>\n",
       "      <td>486</td>\n",
       "    </tr>\n",
       "    <tr>\n",
       "      <th>HUEHUETENANGO</th>\n",
       "      <td>437</td>\n",
       "    </tr>\n",
       "    <tr>\n",
       "      <th>QUETZALTENANGO</th>\n",
       "      <td>430</td>\n",
       "    </tr>\n",
       "    <tr>\n",
       "      <th>PETEN</th>\n",
       "      <td>357</td>\n",
       "    </tr>\n",
       "    <tr>\n",
       "      <th>SUCHITEPEQUEZ</th>\n",
       "      <td>330</td>\n",
       "    </tr>\n",
       "    <tr>\n",
       "      <th>IZABAL</th>\n",
       "      <td>303</td>\n",
       "    </tr>\n",
       "    <tr>\n",
       "      <th>CHIMALTENANGO</th>\n",
       "      <td>290</td>\n",
       "    </tr>\n",
       "    <tr>\n",
       "      <th>ALTA VERAPAZ</th>\n",
       "      <td>280</td>\n",
       "    </tr>\n",
       "    <tr>\n",
       "      <th>SACATEPEQUEZ</th>\n",
       "      <td>276</td>\n",
       "    </tr>\n",
       "    <tr>\n",
       "      <th>JUTIAPA</th>\n",
       "      <td>265</td>\n",
       "    </tr>\n",
       "    <tr>\n",
       "      <th>RETALHULEU</th>\n",
       "      <td>255</td>\n",
       "    </tr>\n",
       "    <tr>\n",
       "      <th>QUICHE</th>\n",
       "      <td>212</td>\n",
       "    </tr>\n",
       "    <tr>\n",
       "      <th>CHIQUIMULA</th>\n",
       "      <td>168</td>\n",
       "    </tr>\n",
       "    <tr>\n",
       "      <th>SANTA ROSA</th>\n",
       "      <td>140</td>\n",
       "    </tr>\n",
       "    <tr>\n",
       "      <th>SOLOLA</th>\n",
       "      <td>138</td>\n",
       "    </tr>\n",
       "    <tr>\n",
       "      <th>JALAPA</th>\n",
       "      <td>116</td>\n",
       "    </tr>\n",
       "    <tr>\n",
       "      <th>BAJA VERAPAZ</th>\n",
       "      <td>114</td>\n",
       "    </tr>\n",
       "    <tr>\n",
       "      <th>EL PROGRESO</th>\n",
       "      <td>111</td>\n",
       "    </tr>\n",
       "    <tr>\n",
       "      <th>ZACAPA</th>\n",
       "      <td>93</td>\n",
       "    </tr>\n",
       "    <tr>\n",
       "      <th>TOTONICAPAN</th>\n",
       "      <td>81</td>\n",
       "    </tr>\n",
       "  </tbody>\n",
       "</table>\n",
       "</div>"
      ],
      "text/plain": [
       "                DEPARTAMENTO\n",
       "CIUDAD CAPITAL          1349\n",
       "GUATEMALA               1237\n",
       "ESCUINTLA                496\n",
       "SAN MARCOS               486\n",
       "HUEHUETENANGO            437\n",
       "QUETZALTENANGO           430\n",
       "PETEN                    357\n",
       "SUCHITEPEQUEZ            330\n",
       "IZABAL                   303\n",
       "CHIMALTENANGO            290\n",
       "ALTA VERAPAZ             280\n",
       "SACATEPEQUEZ             276\n",
       "JUTIAPA                  265\n",
       "RETALHULEU               255\n",
       "QUICHE                   212\n",
       "CHIQUIMULA               168\n",
       "SANTA ROSA               140\n",
       "SOLOLA                   138\n",
       "JALAPA                   116\n",
       "BAJA VERAPAZ             114\n",
       "EL PROGRESO              111\n",
       "ZACAPA                    93\n",
       "TOTONICAPAN               81"
      ]
     },
     "execution_count": 4,
     "metadata": {},
     "output_type": "execute_result"
    }
   ],
   "source": [
    "#Registros por departamento\n",
    "pd.value_counts(colegios.DEPARTAMENTO).to_frame()"
   ]
  },
  {
   "cell_type": "markdown",
   "metadata": {},
   "source": [
    "### CODIGO"
   ]
  },
  {
   "cell_type": "code",
   "execution_count": 5,
   "metadata": {},
   "outputs": [
    {
     "data": {
      "text/plain": [
       "0"
      ]
     },
     "execution_count": 5,
     "metadata": {},
     "output_type": "execute_result"
    }
   ],
   "source": [
    "#Cuantos vacios en variable CODIGO\n",
    "colegios[colegios.CODIGO == '---'].shape[0] + colegios[colegios.CODIGO == '--'].shape[0] + colegios[colegios.CODIGO == '-'].shape[0] + colegios[colegios.CODIGO == ''].shape[0]"
   ]
  },
  {
   "cell_type": "markdown",
   "metadata": {},
   "source": [
    "Esta limpia"
   ]
  },
  {
   "cell_type": "markdown",
   "metadata": {},
   "source": [
    "### DISTRITO"
   ]
  },
  {
   "cell_type": "code",
   "execution_count": 6,
   "metadata": {},
   "outputs": [
    {
     "data": {
      "text/plain": [
       "0"
      ]
     },
     "execution_count": 6,
     "metadata": {},
     "output_type": "execute_result"
    }
   ],
   "source": [
    "#Cuantos vacios en variable DEPARTAMENTAL\n",
    "colegios[colegios.DISTRITO == '---'].shape[0] + colegios[colegios.DISTRITO == '--'].shape[0] + colegios[colegios.DISTRITO == '-'].shape[0] + colegios[colegios.DISTRITO == ''].shape[0]"
   ]
  },
  {
   "cell_type": "markdown",
   "metadata": {},
   "source": [
    "Esta limpia"
   ]
  },
  {
   "cell_type": "markdown",
   "metadata": {},
   "source": [
    "### DEPARTAMENTO"
   ]
  },
  {
   "cell_type": "code",
   "execution_count": 7,
   "metadata": {},
   "outputs": [
    {
     "data": {
      "text/plain": [
       "0"
      ]
     },
     "execution_count": 7,
     "metadata": {},
     "output_type": "execute_result"
    }
   ],
   "source": [
    "#Cuantos vacios en variable DEPARTAMENTO\n",
    "colegios[colegios.DEPARTAMENTO == '---'].shape[0] + colegios[colegios.DEPARTAMENTO == '--'].shape[0] + colegios[colegios.DEPARTAMENTO == '-'].shape[0] + colegios[colegios.DEPARTAMENTO == ''].shape[0]"
   ]
  },
  {
   "cell_type": "markdown",
   "metadata": {},
   "source": [
    "Esta limpia"
   ]
  },
  {
   "cell_type": "markdown",
   "metadata": {},
   "source": [
    "### MUNICIPIO"
   ]
  },
  {
   "cell_type": "code",
   "execution_count": 8,
   "metadata": {},
   "outputs": [
    {
     "data": {
      "text/plain": [
       "0"
      ]
     },
     "execution_count": 8,
     "metadata": {},
     "output_type": "execute_result"
    }
   ],
   "source": [
    "#Cuantos vacios en variable MUNICIPIO\n",
    "colegios[colegios.MUNICIPIO == '---'].shape[0] + colegios[colegios.MUNICIPIO == '--'].shape[0] + colegios[colegios.MUNICIPIO == '-'].shape[0] + colegios[colegios.MUNICIPIO == ''].shape[0]"
   ]
  },
  {
   "cell_type": "markdown",
   "metadata": {},
   "source": [
    "Esta limpia"
   ]
  },
  {
   "cell_type": "markdown",
   "metadata": {},
   "source": [
    "### ESTABLECIMIENTO"
   ]
  },
  {
   "cell_type": "code",
   "execution_count": 9,
   "metadata": {},
   "outputs": [
    {
     "data": {
      "text/plain": [
       "0"
      ]
     },
     "execution_count": 9,
     "metadata": {},
     "output_type": "execute_result"
    }
   ],
   "source": [
    "#Cuantos vacios en variable ESTABLECIMIENTO\n",
    "colegios[colegios.ESTABLECIMIENTO == '---'].shape[0] + colegios[colegios.ESTABLECIMIENTO == '--'].shape[0] + colegios[colegios.ESTABLECIMIENTO == '-'].shape[0] + colegios[colegios.ESTABLECIMIENTO == ''].shape[0]"
   ]
  },
  {
   "cell_type": "markdown",
   "metadata": {},
   "source": [
    "Esta limpia"
   ]
  },
  {
   "cell_type": "markdown",
   "metadata": {},
   "source": [
    "### DIRECCION"
   ]
  },
  {
   "cell_type": "code",
   "execution_count": 10,
   "metadata": {},
   "outputs": [
    {
     "data": {
      "text/plain": [
       "5"
      ]
     },
     "execution_count": 10,
     "metadata": {},
     "output_type": "execute_result"
    }
   ],
   "source": [
    "#Cuantos vacios en variable DIRECCION\n",
    "colegios[colegios.DIRECCION == '---'].shape[0] + colegios[colegios.DIRECCION == '--'].shape[0] + colegios[colegios.DIRECCION == '-'].shape[0] + colegios[colegios.DIRECCION == ''].shape[0]"
   ]
  },
  {
   "cell_type": "markdown",
   "metadata": {},
   "source": [
    "### TELEFONO"
   ]
  },
  {
   "cell_type": "code",
   "execution_count": 11,
   "metadata": {},
   "outputs": [
    {
     "data": {
      "text/plain": [
       "0"
      ]
     },
     "execution_count": 11,
     "metadata": {},
     "output_type": "execute_result"
    }
   ],
   "source": [
    "#Cuantos vacios en variable TELEFONO\n",
    "colegios[colegios.TELEFONO == '---'].shape[0] + colegios[colegios.TELEFONO == '--'].shape[0] + colegios[colegios.TELEFONO == '-'].shape[0] + colegios[colegios.TELEFONO == ''].shape[0]"
   ]
  },
  {
   "cell_type": "code",
   "execution_count": null,
   "metadata": {},
   "outputs": [],
   "source": []
  },
  {
   "cell_type": "markdown",
   "metadata": {},
   "source": [
    "### SUPERVISOR"
   ]
  },
  {
   "cell_type": "code",
   "execution_count": 12,
   "metadata": {},
   "outputs": [
    {
     "data": {
      "text/plain": [
       "0"
      ]
     },
     "execution_count": 12,
     "metadata": {},
     "output_type": "execute_result"
    }
   ],
   "source": [
    "#Cuantos vacios en variable SUPERVISOR\n",
    "colegios[colegios.SUPERVISOR == '---'].shape[0] + colegios[colegios.SUPERVISOR == '--'].shape[0] + colegios[colegios.SUPERVISOR == '-'].shape[0] + colegios[colegios.SUPERVISOR == ''].shape[0]"
   ]
  },
  {
   "cell_type": "markdown",
   "metadata": {},
   "source": [
    "Esta limpia"
   ]
  },
  {
   "cell_type": "markdown",
   "metadata": {},
   "source": [
    "### DIRECTOR"
   ]
  },
  {
   "cell_type": "code",
   "execution_count": 13,
   "metadata": {},
   "outputs": [
    {
     "data": {
      "text/plain": [
       "281"
      ]
     },
     "execution_count": 13,
     "metadata": {},
     "output_type": "execute_result"
    }
   ],
   "source": [
    "#Cuantos vacios en variable DIRECTOR\n",
    "colegios[colegios.DIRECTOR == '---'].shape[0] + colegios[colegios.DIRECTOR == '--'].shape[0] + colegios[colegios.DIRECTOR == '-'].shape[0] + colegios[colegios.DIRECTOR == ''].shape[0]"
   ]
  },
  {
   "cell_type": "markdown",
   "metadata": {},
   "source": [
    "### NIVEL"
   ]
  },
  {
   "cell_type": "code",
   "execution_count": 14,
   "metadata": {},
   "outputs": [
    {
     "data": {
      "text/plain": [
       "0"
      ]
     },
     "execution_count": 14,
     "metadata": {},
     "output_type": "execute_result"
    }
   ],
   "source": [
    "#Cuantos vacios en variable NIVEL\n",
    "colegios[colegios.NIVEL == '---'].shape[0] + colegios[colegios.NIVEL == '--'].shape[0] + colegios[colegios.NIVEL == '-'].shape[0] + colegios[colegios.NIVEL == ''].shape[0]"
   ]
  },
  {
   "cell_type": "markdown",
   "metadata": {},
   "source": [
    "Esta limpia"
   ]
  },
  {
   "cell_type": "markdown",
   "metadata": {},
   "source": [
    "### SECTOR"
   ]
  },
  {
   "cell_type": "code",
   "execution_count": 15,
   "metadata": {},
   "outputs": [
    {
     "data": {
      "text/plain": [
       "0"
      ]
     },
     "execution_count": 15,
     "metadata": {},
     "output_type": "execute_result"
    }
   ],
   "source": [
    "#Cuantos vacios en variable SECTOR\n",
    "colegios[colegios.SECTOR == '---'].shape[0] + colegios[colegios.SECTOR == '--'].shape[0] + colegios[colegios.SECTOR == '-'].shape[0] + colegios[colegios.SECTOR == ''].shape[0]"
   ]
  },
  {
   "cell_type": "markdown",
   "metadata": {},
   "source": [
    "Esta limpia"
   ]
  },
  {
   "cell_type": "markdown",
   "metadata": {},
   "source": [
    "### AREA"
   ]
  },
  {
   "cell_type": "code",
   "execution_count": 16,
   "metadata": {},
   "outputs": [
    {
     "data": {
      "text/plain": [
       "0"
      ]
     },
     "execution_count": 16,
     "metadata": {},
     "output_type": "execute_result"
    }
   ],
   "source": [
    "#Cuantos vacios en variable AREA\n",
    "colegios[colegios.AREA == '---'].shape[0] + colegios[colegios.AREA == '--'].shape[0] + colegios[colegios.AREA == '-'].shape[0] + colegios[colegios.AREA == ''].shape[0]"
   ]
  },
  {
   "cell_type": "markdown",
   "metadata": {},
   "source": [
    "Esta limpia"
   ]
  },
  {
   "cell_type": "markdown",
   "metadata": {},
   "source": [
    "### STATUS"
   ]
  },
  {
   "cell_type": "code",
   "execution_count": 17,
   "metadata": {},
   "outputs": [
    {
     "data": {
      "text/plain": [
       "0"
      ]
     },
     "execution_count": 17,
     "metadata": {},
     "output_type": "execute_result"
    }
   ],
   "source": [
    "#Cuantos vacios en variable STATUS\n",
    "colegios[colegios.STATUS == '---'].shape[0] + colegios[colegios.STATUS == '--'].shape[0] + colegios[colegios.STATUS == '-'].shape[0] + colegios[colegios.STATUS == ''].shape[0]"
   ]
  },
  {
   "cell_type": "markdown",
   "metadata": {},
   "source": [
    "Esta limpia"
   ]
  },
  {
   "cell_type": "markdown",
   "metadata": {},
   "source": [
    "### MODALIDAD"
   ]
  },
  {
   "cell_type": "code",
   "execution_count": 18,
   "metadata": {},
   "outputs": [
    {
     "data": {
      "text/plain": [
       "0"
      ]
     },
     "execution_count": 18,
     "metadata": {},
     "output_type": "execute_result"
    }
   ],
   "source": [
    "#Cuantos vacios en variable MODALIDAD\n",
    "colegios[colegios.MODALIDAD == '---'].shape[0] + colegios[colegios.MODALIDAD == '--'].shape[0] + colegios[colegios.MODALIDAD == '-'].shape[0] + colegios[colegios.MODALIDAD == ''].shape[0]"
   ]
  },
  {
   "cell_type": "markdown",
   "metadata": {},
   "source": [
    "Esta limpia"
   ]
  },
  {
   "cell_type": "markdown",
   "metadata": {},
   "source": [
    "### JORNADA"
   ]
  },
  {
   "cell_type": "code",
   "execution_count": 19,
   "metadata": {},
   "outputs": [
    {
     "data": {
      "text/plain": [
       "0"
      ]
     },
     "execution_count": 19,
     "metadata": {},
     "output_type": "execute_result"
    }
   ],
   "source": [
    "#Cuantos vacios en variable JORNADA\n",
    "colegios[colegios.JORNADA == '---'].shape[0] + colegios[colegios.JORNADA == '--'].shape[0] + colegios[colegios.JORNADA == '-'].shape[0] + colegios[colegios.JORNADA == ''].shape[0]"
   ]
  },
  {
   "cell_type": "markdown",
   "metadata": {},
   "source": [
    "Esta limpia"
   ]
  },
  {
   "cell_type": "markdown",
   "metadata": {},
   "source": [
    "### PLAN"
   ]
  },
  {
   "cell_type": "code",
   "execution_count": 20,
   "metadata": {},
   "outputs": [
    {
     "data": {
      "text/plain": [
       "0"
      ]
     },
     "execution_count": 20,
     "metadata": {},
     "output_type": "execute_result"
    }
   ],
   "source": [
    "#Cuantos vacios en variable PLAN\n",
    "colegios[colegios.PLAN == '---'].shape[0] + colegios[colegios.PLAN == '--'].shape[0] + colegios[colegios.PLAN == '-'].shape[0] + colegios[colegios.PLAN == ''].shape[0]"
   ]
  },
  {
   "cell_type": "markdown",
   "metadata": {},
   "source": [
    "Esta limpia"
   ]
  },
  {
   "cell_type": "markdown",
   "metadata": {},
   "source": [
    "### DEPARTAMENTAL"
   ]
  },
  {
   "cell_type": "code",
   "execution_count": 21,
   "metadata": {},
   "outputs": [
    {
     "data": {
      "text/plain": [
       "0"
      ]
     },
     "execution_count": 21,
     "metadata": {},
     "output_type": "execute_result"
    }
   ],
   "source": [
    "#Cuantos vacios en variable DEPARTAMENTAL\n",
    "colegios[colegios.DEPARTAMENTAL == '---'].shape[0] + colegios[colegios.DEPARTAMENTAL == '--'].shape[0] + colegios[colegios.DEPARTAMENTAL == '-'].shape[0] + colegios[colegios.DEPARTAMENTAL == ''].shape[0]"
   ]
  },
  {
   "cell_type": "markdown",
   "metadata": {},
   "source": [
    "Esta limpia"
   ]
  },
  {
   "cell_type": "code",
   "execution_count": null,
   "metadata": {},
   "outputs": [],
   "source": []
  }
 ],
 "metadata": {
  "kernelspec": {
   "display_name": "Python 3",
   "language": "python",
   "name": "python3"
  },
  "language_info": {
   "codemirror_mode": {
    "name": "ipython",
    "version": 3
   },
   "file_extension": ".py",
   "mimetype": "text/x-python",
   "name": "python",
   "nbconvert_exporter": "python",
   "pygments_lexer": "ipython3",
   "version": "3.7.2"
  }
 },
 "nbformat": 4,
 "nbformat_minor": 4
}
